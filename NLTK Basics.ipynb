{
 "cells": [
  {
   "cell_type": "code",
   "execution_count": 18,
   "metadata": {},
   "outputs": [],
   "source": [
    "import nltk\n",
    "from nltk.book import text6 #text6 is monty python\n",
    "from nltk.tokenize import sent_tokenize , word_tokenize\n",
    "from nltk.corpus import webtext\n",
    "#tokenizing - word tokenizers...sentence tokenizers\n",
    "#lexicons and corporas\n",
    "# corpora- body of text. ex: medical journals, english\n",
    "#lexicons - words and their meanings\n",
    "#https://stackoverflow.com/questions/49283774/how-to-read-nltk-text-text-files-from-nltk-book-in-python\n"
   ]
  },
  {
   "cell_type": "code",
   "execution_count": 113,
   "metadata": {},
   "outputs": [
    {
     "name": "stdout",
     "output_type": "stream",
     "text": [
      "first 10 sentences:\n",
      "['SCENE 1: [wind] [clop clop clop] \\nKING ARTHUR: Whoa there!', '[clop clop clop] \\nSOLDIER #1: Halt!', 'Who goes there?', 'ARTHUR: It is I, Arthur, son of Uther Pendragon, from the castle of Camelot.', 'King of the Britons, defeator of the Saxons, sovereign of all England!', 'SOLDIER #1: Pull the other one!', 'ARTHUR: I am, ...  and this is my trusty servant Patsy.', 'We have ridden the length and breadth of the land in search of knights who will join me in my court at Camelot.', 'I must speak with your lord and master.', 'SOLDIER #1: What?']\n",
      "  \n",
      "# of words in text:\n",
      "16967\n",
      "   \n",
      "concordance of the string coconut:\n",
      "Displaying 6 of 6 matches:\n",
      " : You ' ve got two empty halves of coconut and you ' re bangin ' ' em together\n",
      " # 1 : Found them ? In Mercea ? The coconut ' s tropical ! ARTHUR : What do you\n",
      "R # 1 : What ? A swallow carrying a coconut ? ARTHUR : It could grip it by the \n",
      "ce bird could not carry a one pound coconut . ARTHUR : Well , it doesn ' t matt\n",
      "ER # 1 : So they couldn ' t bring a coconut back anyway ... [ clop clop clop ] \n",
      "ay -- four , really , if they had a coconut on a line between them . I mean , i\n",
      "None\n",
      "  \n",
      "words similar to knight:\n",
      "and so well question oh strand couple sort system shall launcelot task\n",
      "way string glass cry feint\n",
      "None\n",
      "   \n"
     ]
    }
   ],
   "source": [
    "#Task one\n",
    "\n",
    "#part one\n",
    "mphg_text = webtext.raw('grail.txt')  #monty python and the holy grail\n",
    "mphg_sentences = sent_tokenize(str(text))\n",
    "print('first 10 sentences:')\n",
    "print(file1[0:10])\n",
    "print('  ')\n",
    "\n",
    "#part two\n",
    "print('# of words in text:')\n",
    "print(len(text6))\n",
    "print('   ')\n",
    "\n",
    "#part three\n",
    "print('concordance of the string coconut:')\n",
    "print(text6.concordance(\"coconut\"))\n",
    "print('  ')\n",
    "\n",
    "#part four\n",
    "print('words similar to knight:')\n",
    "print(text6.similar(\"knight\"))\n",
    "print('   ')\n",
    "\n"
   ]
  },
  {
   "cell_type": "code",
   "execution_count": null,
   "metadata": {},
   "outputs": [],
   "source": []
  },
  {
   "cell_type": "code",
   "execution_count": 110,
   "metadata": {
    "scrolled": false
   },
   "outputs": [
    {
     "name": "stdout",
     "output_type": "stream",
     "text": [
      "Full text in Ibibio-Efik: [['Edisuan', 'Etop', 'Mbana', 'Mme', 'Unen', 'Owo', 'Ke', 'Ofuri', 'Ekondo', 'AKWA', 'EWET', 'NWED', 'Kpukpuru', 'owo', 'emana', 'ye', 'ukemukem', 'ye', 'asana', 'asana', 'unen', 'ye', 'ndamana', 'uboho', '-', 'ufin', '.'], ['Mboho', 'Edidiana', 'Kiet', 'Ofuri', 'Ekondo', 'enehede', 'ebiere', 'ndimum', 'nkama', ',', 'ndisuan', 'etop', 'mbana', ',', 'nyun', 'mkpeme', 'mme', 'ndamana', 'unen', 'kpukpuru', 'owo', '.'], ...]\n",
      "  \n",
      "# of words in Amahuaca: 1219\n",
      "# of words in greenlandic: 761\n",
      "Amahuaca has more words.\n",
      "  \n",
      "['İnsan', 'hakları', 'evrensel', 'beyannamesi', 'Önsöz']\n"
     ]
    }
   ],
   "source": [
    "#Task Two\n",
    "from nltk.corpus import udhr\n",
    "from nltk.corpus import udhr2\n",
    "\n",
    "#Part one\n",
    "print('Full text in Ibibio-Efik:', udhr.sents('Ibibio_Efik-Latin1' ))\n",
    "print('  ')\n",
    "\n",
    "#Part two\n",
    "words_amahuaca =len(udhr.words('Amahuaca'))\n",
    "words_greenlandic= len(udhr.words('Greenlandic_Inuktikut-Latin1'))   \n",
    "if (words_amahuaca > words_greenlandic):\n",
    "      Most_words = 'Amahuaca'\n",
    "else:\n",
    "      Most_words = 'Greenlandic'\n",
    "print('# of words in Amahuaca:',words_amahuaca)\n",
    "print('# of words in greenlandic:',words_greenlandic)\n",
    "print(Most_words,'has more words.')\n",
    "print('  ')\n",
    "\n",
    "#Part three (udhr turkish text wasnt loading for some reason,used udhr2)\n",
    "turkish_words = udhr2.words('tur.txt')\n",
    "print(turkish_words[0:5])\n",
    "\n",
    "\n",
    "      "
   ]
  },
  {
   "cell_type": "code",
   "execution_count": 109,
   "metadata": {
    "scrolled": true
   },
   "outputs": [
    {
     "name": "stdout",
     "output_type": "stream",
     "text": [
      "Categories in brown:\n",
      "['adventure', 'belles_lettres', 'editorial', 'fiction', 'government', 'hobbies', 'humor', 'learned', 'lore', 'mystery', 'news', 'religion', 'reviews', 'romance', 'science_fiction']\n",
      " \n",
      "['His', 'manhood', 'had', 'been', 'attacked', '.']\n",
      "  \n",
      "category with most words: learned\n"
     ]
    }
   ],
   "source": [
    "#task three\n",
    "from nltk.corpus import brown\n",
    "from random import randint\n",
    "\n",
    "#part one\n",
    "brown_categories = brown.categories()\n",
    "print('Categories in brown:')\n",
    "print(brown_categories)\n",
    "print(' ')\n",
    "\n",
    "#part two\n",
    "humor_text= brown.sents(categories='humor')\n",
    "random_word_index = randint(0,len(humor_text))\n",
    "print(humor_text[random_word_index])\n",
    "print('  ')\n",
    "\n",
    "#part three\n",
    "max_lenght = 0 \n",
    "max_lenght_category= ' '\n",
    "for category in brown.categories():\n",
    "    if len(brown.words(categories=category)) > max_lenght:\n",
    "        max_lenght = len(brown.words(categories=category))\n",
    "        max_lenght_category= category\n",
    "print('category with most words:',max_lenght_category)\n",
    "    \n"
   ]
  },
  {
   "cell_type": "code",
   "execution_count": 101,
   "metadata": {},
   "outputs": [
    {
     "data": {
      "text/plain": [
       "'learned'"
      ]
     },
     "execution_count": 101,
     "metadata": {},
     "output_type": "execute_result"
    }
   ],
   "source": []
  },
  {
   "cell_type": "code",
   "execution_count": 3,
   "metadata": {},
   "outputs": [
    {
     "name": "stdout",
     "output_type": "stream",
     "text": [
      "words in text: 16967\n",
      "Displaying 6 of 6 matches:\n",
      " : You ' ve got two empty halves of coconut and you ' re bangin ' ' em together\n",
      " # 1 : Found them ? In Mercea ? The coconut ' s tropical ! ARTHUR : What do you\n",
      "R # 1 : What ? A swallow carrying a coconut ? ARTHUR : It could grip it by the \n",
      "ce bird could not carry a one pound coconut . ARTHUR : Well , it doesn ' t matt\n",
      "ER # 1 : So they couldn ' t bring a coconut back anyway ... [ clop clop clop ] \n",
      "ay -- four , really , if they had a coconut on a line between them . I mean , i\n",
      "concordance of coconut: None\n",
      "and so well question oh strand couple sort system shall launcelot task\n",
      "way string glass cry feint\n",
      "words similar to the word knight: None\n",
      "Ibibio-Efik Text:\n",
      "['Edisuan', 'Etop', 'Mbana', 'Mme', 'Unen', 'Owo', ...]\n",
      "Words in Amahuaca: 1219  Words in greenlandic: 761\n",
      "Amahuaca has more words.\n",
      "Categories: ['adventure', 'belles_lettres', 'editorial', 'fiction', 'government', 'hobbies', 'humor', 'learned', 'lore', 'mystery', 'news', 'religion', 'reviews', 'romance', 'science_fiction']\n",
      "['Francesca', 'and', 'Herbert', 'considered', 'themselves', 'violently', 'nonconformist', 'and', 'showed', 'the', 'world', 'they', 'were', 'by', 'filling', 'their', 'Colonial', 'house', 'with', 'contemporary', 'furniture', 'and', 'paintings', 'and', 'other', 'art', 'objects', '(', 'expensive', ',', 'but', 'not', 'necessarily', 'valuable', ',', 'contemporary', 'things', ')', '.']\n",
      "Category with the most number of words: learned\n"
     ]
    }
   ],
   "source": [
    "import nltk\n",
    "from nltk.book import text6\n",
    "\n",
    "#Task one(text6 wont tokenize sentence)\n",
    "print('words in text:',len(text6))\n",
    "print('concordance of coconut:',text6.concordance(\"coconut\"))\n",
    "print('words similar to the word knight:',text6.similar(\"knight\"))\n",
    "\n",
    "#Task Two(couldnt open turkish file)\n",
    "from nltk.corpus import udhr\n",
    "\n",
    "print('Ibibio-Efik Text:')\n",
    "print(udhr.words('Ibibio_Efik-Latin1' ))\n",
    "num_words_amahuaca =len(udhr.words('Amahuaca'))\n",
    "num_words_greenlandic= len(udhr.words('Greenlandic_Inuktikut-Latin1'))\n",
    "print('Words in Amahuaca:',num_words_amahuaca,' Words in greenlandic:',num_words_greenlandic)\n",
    "if num_words_amahuaca > num_words_greenlandic:\n",
    "    print('Amahuaca has more words.')\n",
    "else:\n",
    "    print('Greenlandic has more words  ')\n",
    "\n",
    "\n",
    "#task three\n",
    "from nltk.corpus import brown\n",
    "import random\n",
    "\n",
    "categories = brown.categories()\n",
    "print('Categories:', categories)\n",
    "text_in_humor= brown.sents(categories='humor')\n",
    "print(random.choice(text_in_humor))\n",
    "category= ''\n",
    "len_category = 0\n",
    "for category_name in brown.categories():\n",
    "    if (len(brown.words(categories=category_name)) > len_category):\n",
    "        len_category = len(brown.words(categories=category_name))\n",
    "        category= category_name\n",
    "print('Category with the most number of words:',category)"
   ]
  },
  {
   "cell_type": "code",
   "execution_count": null,
   "metadata": {},
   "outputs": [],
   "source": []
  },
  {
   "cell_type": "code",
   "execution_count": null,
   "metadata": {},
   "outputs": [],
   "source": []
  },
  {
   "cell_type": "code",
   "execution_count": null,
   "metadata": {},
   "outputs": [],
   "source": []
  },
  {
   "cell_type": "code",
   "execution_count": null,
   "metadata": {},
   "outputs": [],
   "source": []
  }
 ],
 "metadata": {
  "kernelspec": {
   "display_name": "Python 3",
   "language": "python",
   "name": "python3"
  },
  "language_info": {
   "codemirror_mode": {
    "name": "ipython",
    "version": 3
   },
   "file_extension": ".py",
   "mimetype": "text/x-python",
   "name": "python",
   "nbconvert_exporter": "python",
   "pygments_lexer": "ipython3",
   "version": "3.6.4"
  }
 },
 "nbformat": 4,
 "nbformat_minor": 2
}
